{
 "cells": [
  {
   "cell_type": "code",
   "execution_count": 1,
   "id": "d29f6488",
   "metadata": {},
   "outputs": [],
   "source": [
    "# Step 1. Importing the libraries\n",
    "\n",
    "import numpy as np\n",
    "import pandas as pd"
   ]
  },
  {
   "cell_type": "code",
   "execution_count": 2,
   "id": "c7fbb4c7",
   "metadata": {},
   "outputs": [
    {
     "data": {
      "text/html": [
       "<div>\n",
       "<style scoped>\n",
       "    .dataframe tbody tr th:only-of-type {\n",
       "        vertical-align: middle;\n",
       "    }\n",
       "\n",
       "    .dataframe tbody tr th {\n",
       "        vertical-align: top;\n",
       "    }\n",
       "\n",
       "    .dataframe thead th {\n",
       "        text-align: right;\n",
       "    }\n",
       "</style>\n",
       "<table border=\"1\" class=\"dataframe\">\n",
       "  <thead>\n",
       "    <tr style=\"text-align: right;\">\n",
       "      <th></th>\n",
       "      <th>User ID</th>\n",
       "      <th>Gender</th>\n",
       "      <th>Age</th>\n",
       "      <th>EstimatedSalary</th>\n",
       "      <th>Purchased</th>\n",
       "    </tr>\n",
       "  </thead>\n",
       "  <tbody>\n",
       "    <tr>\n",
       "      <th>0</th>\n",
       "      <td>15624510</td>\n",
       "      <td>Male</td>\n",
       "      <td>19</td>\n",
       "      <td>19000</td>\n",
       "      <td>0</td>\n",
       "    </tr>\n",
       "    <tr>\n",
       "      <th>1</th>\n",
       "      <td>15810944</td>\n",
       "      <td>Male</td>\n",
       "      <td>35</td>\n",
       "      <td>20000</td>\n",
       "      <td>0</td>\n",
       "    </tr>\n",
       "    <tr>\n",
       "      <th>2</th>\n",
       "      <td>15668575</td>\n",
       "      <td>Female</td>\n",
       "      <td>26</td>\n",
       "      <td>43000</td>\n",
       "      <td>0</td>\n",
       "    </tr>\n",
       "    <tr>\n",
       "      <th>3</th>\n",
       "      <td>15603246</td>\n",
       "      <td>Female</td>\n",
       "      <td>27</td>\n",
       "      <td>57000</td>\n",
       "      <td>0</td>\n",
       "    </tr>\n",
       "    <tr>\n",
       "      <th>4</th>\n",
       "      <td>15804002</td>\n",
       "      <td>Male</td>\n",
       "      <td>19</td>\n",
       "      <td>76000</td>\n",
       "      <td>0</td>\n",
       "    </tr>\n",
       "  </tbody>\n",
       "</table>\n",
       "</div>"
      ],
      "text/plain": [
       "    User ID  Gender  Age  EstimatedSalary  Purchased\n",
       "0  15624510    Male   19            19000          0\n",
       "1  15810944    Male   35            20000          0\n",
       "2  15668575  Female   26            43000          0\n",
       "3  15603246  Female   27            57000          0\n",
       "4  15804002    Male   19            76000          0"
      ]
     },
     "execution_count": 2,
     "metadata": {},
     "output_type": "execute_result"
    }
   ],
   "source": [
    "# step 2. Importing the dataset\n",
    "\n",
    "dataset = pd.read_csv(\"Social_Network_Ads.csv\")\n",
    "dataset.head()"
   ]
  },
  {
   "cell_type": "code",
   "execution_count": 3,
   "id": "7c3f8b95",
   "metadata": {},
   "outputs": [
    {
     "data": {
      "text/plain": [
       "{0, 1}"
      ]
     },
     "execution_count": 3,
     "metadata": {},
     "output_type": "execute_result"
    }
   ],
   "source": [
    "# Info\n",
    "\n",
    "set(dataset['Purchased'])"
   ]
  },
  {
   "cell_type": "code",
   "execution_count": 4,
   "id": "35401450",
   "metadata": {},
   "outputs": [],
   "source": [
    "# Step 3.  Selecting col , converting into array - '.values' , storing into X , Independent Var\n",
    "\n",
    "X = dataset.iloc[:, [2,3]].values  # Age and EstimatedSalary columns"
   ]
  },
  {
   "cell_type": "code",
   "execution_count": 5,
   "id": "42daa7f3",
   "metadata": {},
   "outputs": [
    {
     "data": {
      "text/plain": [
       "array([[   19, 19000],\n",
       "       [   35, 20000],\n",
       "       [   26, 43000]], dtype=int64)"
      ]
     },
     "execution_count": 5,
     "metadata": {},
     "output_type": "execute_result"
    }
   ],
   "source": [
    "X[0:3] # Info "
   ]
  },
  {
   "cell_type": "code",
   "execution_count": 6,
   "id": "d4228a32",
   "metadata": {},
   "outputs": [],
   "source": [
    "# Step 4. Selecting col , converting into array - '.values' , storing into y , Dependent Var\n",
    "\n",
    "y = dataset.iloc[:,4].values  # Purchased column"
   ]
  },
  {
   "cell_type": "code",
   "execution_count": 7,
   "id": "95be5aa8",
   "metadata": {},
   "outputs": [
    {
     "data": {
      "text/plain": [
       "array([0, 0, 0], dtype=int64)"
      ]
     },
     "execution_count": 7,
     "metadata": {},
     "output_type": "execute_result"
    }
   ],
   "source": [
    "y[0:3] # Info"
   ]
  },
  {
   "cell_type": "code",
   "execution_count": 8,
   "id": "cf768b28",
   "metadata": {},
   "outputs": [],
   "source": [
    "# Step 5. Splitting the dataset into training set and testing set\n",
    "\n",
    "from sklearn.model_selection import train_test_split\n",
    "\n",
    "X_train, X_test, y_train, y_test = train_test_split(X,y, test_size = 0.25, random_state = 200)"
   ]
  },
  {
   "cell_type": "code",
   "execution_count": 9,
   "id": "c1273d3e",
   "metadata": {},
   "outputs": [
    {
     "data": {
      "text/plain": [
       "(300, 2)"
      ]
     },
     "execution_count": 9,
     "metadata": {},
     "output_type": "execute_result"
    }
   ],
   "source": [
    "#  \n",
    "X_train.shape"
   ]
  },
  {
   "cell_type": "code",
   "execution_count": 10,
   "id": "cbfb6025",
   "metadata": {},
   "outputs": [
    {
     "data": {
      "text/plain": [
       "(100, 2)"
      ]
     },
     "execution_count": 10,
     "metadata": {},
     "output_type": "execute_result"
    }
   ],
   "source": [
    "X_test.shape"
   ]
  },
  {
   "cell_type": "code",
   "execution_count": 11,
   "id": "9c865e0b",
   "metadata": {},
   "outputs": [],
   "source": [
    "# Step 6. Scaling\n",
    "\n",
    "from sklearn.preprocessing import StandardScaler\n",
    "sc_X = StandardScaler()\n",
    "X_train = sc_X.fit_transform(X_train)\n",
    "X_test = sc_X.transform(X_test)"
   ]
  },
  {
   "cell_type": "code",
   "execution_count": 12,
   "id": "8c5cabe5",
   "metadata": {},
   "outputs": [
    {
     "data": {
      "text/plain": [
       "array([[ 0.03016333, -0.22931642],\n",
       "       [-0.06508929,  0.10229804],\n",
       "       [ 0.98268949, -1.07342594]])"
      ]
     },
     "execution_count": 12,
     "metadata": {},
     "output_type": "execute_result"
    }
   ],
   "source": [
    "X_train[0:3] # Info after standard scaler"
   ]
  },
  {
   "cell_type": "code",
   "execution_count": 13,
   "id": "a093a21a",
   "metadata": {},
   "outputs": [
    {
     "data": {
      "text/plain": [
       "RandomForestClassifier(criterion='entropy', n_estimators=5000)"
      ]
     },
     "execution_count": 13,
     "metadata": {},
     "output_type": "execute_result"
    }
   ],
   "source": [
    "# Step 7. Fitting the classifier into the training set\n",
    "\n",
    "from sklearn.ensemble import RandomForestClassifier\n",
    "classifier = RandomForestClassifier(n_estimators = 5000, criterion = 'entropy')\n",
    "classifier.fit(X_train, y_train) # training model"
   ]
  },
  {
   "cell_type": "code",
   "execution_count": 14,
   "id": "c54a251e",
   "metadata": {},
   "outputs": [],
   "source": [
    "# Step 8. Predicting\n",
    "\n",
    "y_pred = classifier.predict(X_test)"
   ]
  },
  {
   "cell_type": "code",
   "execution_count": 15,
   "id": "bf3d94d8",
   "metadata": {},
   "outputs": [
    {
     "data": {
      "text/plain": [
       "0.8974358974358975"
      ]
     },
     "execution_count": 15,
     "metadata": {},
     "output_type": "execute_result"
    }
   ],
   "source": [
    "from sklearn.metrics import f1_score\n",
    "f1_score(y_test, y_pred) # acutal , pred"
   ]
  },
  {
   "cell_type": "code",
   "execution_count": 16,
   "id": "8b273d0d",
   "metadata": {},
   "outputs": [],
   "source": [
    "import matplotlib.pyplot as plt"
   ]
  },
  {
   "cell_type": "code",
   "execution_count": 17,
   "id": "aface7dc",
   "metadata": {},
   "outputs": [
    {
     "data": {
      "text/plain": [
       "array([ 0.31592118,  1.0779421 , -0.1603419 ,  1.93521564,  0.41117379,\n",
       "       -0.44609975,  0.22066856,  0.79218425, -1.11286806,  0.98268949,\n",
       "       -0.06508929, -1.30337329, -0.1603419 , -0.1603419 ,  0.03016333,\n",
       "       -0.1603419 , -0.25559452, -1.39862591,  0.88743687,  1.83996303,\n",
       "        0.22066856,  0.60167902,  0.31592118,  2.12572088, -0.06508929,\n",
       "        0.03016333,  0.88743687,  0.41117379, -1.30337329,  0.41117379,\n",
       "       -0.63660498, -0.1603419 , -1.49387852, -1.11286806, -0.35084713,\n",
       "        1.55420518, -1.68438376,  0.98268949,  0.22066856, -0.82711021,\n",
       "        1.36369995,  0.22066856,  0.98268949, -0.44609975,  2.03046826,\n",
       "        0.22066856,  0.22066856,  0.03016333, -0.63660498, -1.11286806,\n",
       "       -0.25559452, -0.1603419 , -1.20812068, -0.25559452,  0.88743687,\n",
       "       -0.06508929,  1.0779421 , -0.1603419 , -0.25559452, -0.63660498,\n",
       "       -1.20812068, -0.92236283,  0.12541594, -1.30337329, -1.58913114,\n",
       "       -0.54135237, -0.82711021,  0.41117379, -0.25559452,  0.31592118,\n",
       "       -1.49387852,  1.45895257,  0.31592118, -1.11286806, -1.01761545,\n",
       "        1.55420518, -1.49387852,  1.55420518,  0.12541594,  0.12541594,\n",
       "       -0.1603419 , -1.39862591, -1.77963637,  0.31592118,  0.12541594,\n",
       "       -1.87488899, -1.30337329,  0.41117379, -0.7318576 ,  1.93521564,\n",
       "        0.79218425, -1.87488899,  0.88743687,  0.98268949, -0.06508929,\n",
       "        1.17319472,  0.22066856,  0.79218425, -1.01761545,  2.03046826])"
      ]
     },
     "execution_count": 17,
     "metadata": {},
     "output_type": "execute_result"
    }
   ],
   "source": [
    "# Plotting \n",
    "X_test[:,0] # age"
   ]
  },
  {
   "cell_type": "code",
   "execution_count": 18,
   "id": "2f0df188",
   "metadata": {},
   "outputs": [
    {
     "data": {
      "text/plain": [
       "array([-0.53078411, -1.22415979, -0.16902288,  0.97655433, -0.13887611,\n",
       "        0.01185773,  0.19273834, -0.28960996, -1.10357271,  1.51919616,\n",
       "        2.33315892, -0.41019703,  0.91626079, -0.56093088, -0.53078411,\n",
       "       -1.07342594, -0.28960996, -0.62122441, -0.77195826, -0.25946319,\n",
       "       -0.22931642, -0.89254533, -1.16386625, -0.80210503,  0.28317865,\n",
       "       -0.56093088, -1.31460009, -0.4403438 , -1.10357271,  2.42359922,\n",
       "        0.07215127,  1.73022354, -1.52562747, -0.50063734,  0.10229804,\n",
       "        0.0420045 ,  0.5243528 ,  2.09198477,  1.15743494, -0.65137118,\n",
       "        2.45374599,  0.28317865, -1.16386625,  2.42359922,  1.85081062,\n",
       "       -0.65137118, -0.3499035 , -0.28960996,  0.6147931 , -1.61606778,\n",
       "       -0.10872935,  1.70007677, -1.07342594,  0.67508664,  1.33831555,\n",
       "        2.061838  ,  0.58464633,  1.48904939, -1.25430656, -1.04327917,\n",
       "       -1.4050404 ,  0.55449957, -0.22931642,  0.6147931 , -1.58592101,\n",
       "        1.45890263, -0.77195826,  0.64493987, -0.3499035 , -0.25946319,\n",
       "       -0.41019703,  2.24271861,  0.10229804, -1.61606778, -1.13371948,\n",
       "       -1.28445332, -0.16902288,  1.18758171,  1.60963647,  0.82582048,\n",
       "        0.19273834, -0.07858258,  0.22288511,  0.07215127,  1.97139769,\n",
       "        0.5243528 , -1.25430656,  0.31332542,  2.00154446,  2.27286538,\n",
       "        0.58464633, -0.01828904, -0.53078411,  0.16259157,  0.16259157,\n",
       "       -0.74181149,  2.21257184,  0.31332542, -0.4403438 ,  0.58464633])"
      ]
     },
     "execution_count": 18,
     "metadata": {},
     "output_type": "execute_result"
    }
   ],
   "source": [
    "X_test[:,1]  #sal"
   ]
  },
  {
   "cell_type": "code",
   "execution_count": 19,
   "id": "5e2b1506",
   "metadata": {},
   "outputs": [
    {
     "data": {
      "text/plain": [
       "<matplotlib.collections.PathCollection at 0x240c9188130>"
      ]
     },
     "execution_count": 19,
     "metadata": {},
     "output_type": "execute_result"
    },
    {
     "data": {
      "image/png": "[encoded data removed]",
      "text/plain": [
       "<Figure size 640x480 with 1 Axes>"
      ]
     },
     "metadata": {},
     "output_type": "display_data"
    }
   ],
   "source": [
    "plt.scatter(X_test[:,0], X_test[:,1], c = y_test)"
   ]
  },
  {
   "cell_type": "code",
   "execution_count": 20,
   "id": "9eab4ec6",
   "metadata": {},
   "outputs": [
    {
     "data": {
      "text/plain": [
       "<matplotlib.collections.PathCollection at 0x240c9a84f70>"
      ]
     },
     "execution_count": 20,
     "metadata": {},
     "output_type": "execute_result"
    },
    {
     "data": {
      "image/png": "[encoded data removed]",
      "text/plain": [
       "<Figure size 640x480 with 1 Axes>"
      ]
     },
     "metadata": {},
     "output_type": "display_data"
    }
   ],
   "source": [
    "plt.scatter(X_test[:,0], X_test[:,1], c = y_pred)"
   ]
  }
 ],
 "metadata": {
  "kernelspec": {
   "display_name": "Python 3 (ipykernel)",
   "language": "python",
   "name": "python3"
  },
  "language_info": {
   "codemirror_mode": {
    "name": "ipython",
    "version": 3
   },
   "file_extension": ".py",
   "mimetype": "text/x-python",
   "name": "python",
   "nbconvert_exporter": "python",
   "pygments_lexer": "ipython3",
   "version": "3.9.13"
  }
 },
 "nbformat": 4,
 "nbformat_minor": 5
}
